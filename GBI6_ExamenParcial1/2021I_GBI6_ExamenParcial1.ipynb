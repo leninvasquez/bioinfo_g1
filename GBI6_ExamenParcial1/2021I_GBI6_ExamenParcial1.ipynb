{
 "cells": [
  {
   "cell_type": "markdown",
   "metadata": {},
   "source": [
    "<img src=\"https://www.ikiam.edu.ec/img/logo-ikiam-grey.png\" width=300 height=240 />\n",
    "\n",
    "# EXAMEN PARCIAL 1\n",
    "\n",
    "## GBI6-2021II: BIOINFORMÁTICA\n",
    "\n",
    "**Lenin Fernando Vásquez Torres** \n",
    "\n",
    "**11-01-2021**"
   ]
  },
  {
   "cell_type": "markdown",
   "metadata": {},
   "source": [
    "<font color='red'>NO AGREGUE NUEVAS CELDAS, UTILICE ÚNICAMENTE LAS QUE ESTÁN CREADAS</font>"
   ]
  },
  {
   "attachments": {},
   "cell_type": "markdown",
   "metadata": {},
   "source": [
    "# 1. UNIX\n",
    "\n",
    "## Ejercicio 1\n",
    "* Imprimir el directorio de trabajo actual \n",
    "* Crear un directorio test1\n",
    "* No cambie de directorio, pero los items 4, 5 y 6 deben guardarse en el directorio creado en el paso 2. \n",
    "* Crear el archivo test1.txt\n",
    "* Guardar el texto Hola GBI6 en un archivo test2.txt\n",
    "* Guardar la instrucción print(\"Hola GBI6\")  en el archivo test1.py\n",
    "* Luego seleccione la instrucción que imprima el número de elementos del directorio test1\n",
    "\n",
    "<img src=\"Ejercicio1.jpg\" width=600 height=450 />\n",
    "\n",
    "Explicación: Primeramente con el comndo mkdir se creo el directorio test 1, con touch se creo el documento test1.txt, se inserto \"Hola GBI6\" en el documento test2.txt con el comadno (echo \"Hola GBI6\" > test1.py), finalmente aplico ls test1 | wc-l para enlistar y detallar elementos del directorio test1\n",
    "\n",
    "\n",
    "\n",
    "## Ejercicio 2\n",
    "* Imprimir el directorio de trabajo actual \n",
    "* Crear un directorio test1\n",
    "* No cambie de directorio, pero los items 4, 5 y 6 deben guardarse en el directorio creado en el paso 2. \n",
    "* Crear el archivo test1.txt\n",
    "* Guardar el texto Hola GBI6 en un archivo test2.txt\n",
    "* Guardar la instrucción print(\"Hola GBI6\")  en el archivo test1.py\n",
    "* Luego seleccione la instrucción que copie test2.txt al directorio test2/subtest1 y después borre el directorio test1.\n",
    "\n",
    "\n",
    "<img src=\"Ejercicio2.jpg\" width=600 height=450 />\n",
    "\n",
    "Explicación: Primeramente con el comndo mkdir se creo el directorio test 1, con touch se creo el documento test1.txt, se inserto \"Hola GBI6\" en el documento test2.txt con el comadno (echo \"Hola GBI6\" > test1.py), con mrdir -p se crearon los directorios anidados (test2/subtest1), con $ cp test2.txt test2/subtest1, se copio el archivo test2.txt a los directorios anidados y finalmente se elimino el directorio test1 con rm -r\n",
    "\n",
    "## Ejercicio 3\n",
    "\n",
    "* Imprimir el directorio de trabajo actual \n",
    "* Crear un directorio test1\n",
    "* No cambie de directorio, pero los items 4, 5 y 6 deben guardarse en el directorio creado en el paso 2. \n",
    "* Crear el archivo test1.txt\n",
    "* Guardar el texto Hola GBI6 en un archivo test2.txt\n",
    "* Guardar la instrucción print(\"Hola GBI6\")  en el archivo test1.py\n",
    "* Luego seleccione la instrucción que agregue el texto El examen parcial de GBI6 es hoy al archivo test2.txt sin reemplazar y imprima el contenido en la consola.\n",
    "\n",
    "<img src=\"Ejercicio2.jpg\" width=600 height=450 />\n",
    "\n",
    "Primeramente con el comndo mkdir se creo el directorio test 1, con touch se creo el documento test1.txt, se inserto \"Hola GBI6\" en el documento test2.txt con el comadno (echo \"Hola GBI6\" > test1.py), Con le instrucción (echo \"El examen parcial GBI6 es hoy\" >> test2.txt) se inserto \"El examen parcial GBI6 es hoy\" en test2.txt sin eliminar Hola GBI6, se movió el archivo test2.txt en el directorio test1 mediante el comando (mv test2.txt test1) y finalmente se mostro el cntenido de test2.txt con la instrucción (cat test1/test2.txt).\n",
    "\n",
    "\n",
    "\n",
    "## Ejercicio 4\n",
    "Escriba aquí el enunciado\n",
    "\n",
    "\n",
    "\n",
    "\n"
   ]
  },
  {
   "cell_type": "code",
   "execution_count": 7,
   "metadata": {},
   "outputs": [
    {
     "data": {
      "text/html": [
       "<iframe width=\"560\" height=\"315\" src=\"https://www.youtube.com/embed/9ck5iEP03g4\" title=\"YouTube video player\" frameborder=\"0\" allow=\"accelerometer; autoplay; clipboard-write; encrypted-media; gyroscope; picture-in-picture\" allowfullscreen></iframe>"
      ],
      "text/plain": [
       "<IPython.core.display.HTML object>"
      ]
     },
     "execution_count": 7,
     "metadata": {},
     "output_type": "execute_result"
    }
   ],
   "source": [
    "# Coloque aquí su video del ejercicio 4\n",
    "from IPython.display import HTML\n",
    "HTML('<iframe width=\"560\" height=\"315\" src=\"https://www.youtube.com/embed/9ck5iEP03g4\" title=\"YouTube video player\" frameborder=\"0\" allow=\"accelerometer; autoplay; clipboard-write; encrypted-media; gyroscope; picture-in-picture\" allowfullscreen></iframe>')\n"
   ]
  },
  {
   "cell_type": "markdown",
   "metadata": {},
   "source": [
    "Escriba aquí alguna explicación del ejercicio 4 si lo considera necesario (borre esta línea cuando finalice)\n",
    "\n",
    "## Ejercicio 5\n",
    "Escriba aquí el enunciado\n"
   ]
  },
  {
   "cell_type": "code",
   "execution_count": 5,
   "metadata": {},
   "outputs": [
    {
     "data": {
      "text/html": [
       "<iframe width=\"560\" height=\"315\" src=\"https://www.youtube.com/embed/3XlZWpLwvvo\" title=\"YouTube video player\" frameborder=\"0\" allow=\"accelerometer; autoplay; clipboard-write; encrypted-media; gyroscope; picture-in-picture\" allowfullscreen></iframe>"
      ],
      "text/plain": [
       "<IPython.core.display.HTML object>"
      ]
     },
     "execution_count": 5,
     "metadata": {},
     "output_type": "execute_result"
    }
   ],
   "source": [
    "# Coloque aquí su video del ejercicio 5\n",
    "from IPython.display import HTML\n",
    "HTML('<iframe width=\"560\" height=\"315\" src=\"https://www.youtube.com/embed/3XlZWpLwvvo\" title=\"YouTube video player\" frameborder=\"0\" allow=\"accelerometer; autoplay; clipboard-write; encrypted-media; gyroscope; picture-in-picture\" allowfullscreen></iframe>')\n"
   ]
  },
  {
   "cell_type": "markdown",
   "metadata": {
    "jp-MarkdownHeadingCollapsed": true,
    "tags": []
   },
   "source": [
    "Escriba aquí alguna explicación del ejercicio 5 si lo considera necesario (borre esta línea cuando finalice)\n",
    "\n",
    "# 2. CONTROL DE LA VERSIÓN\n",
    "## Pregunta 6\n",
    "1. Cree en GitHub un repositorio de nombre ```GBI6_ExamenParcial1```. \n",
    "2. Cree un archivo ```Readme.md``` que debe tener lo siguiente: \n",
    "- Datos personales\n",
    "- Características del computador\n",
    "- Programas utilizados\n",
    "- Explicación de la data utilizada\n",
    "\n",
    "\n",
    "## Pregunta 7\n",
    "1. Cada vez que resuelva un ejercicio (del 1 al 10), utilizando Git Bash, GitHub Desktop o Atom realice un *git push* con el mensaje: \n",
    "\n",
    "\n",
    "<font color='red'>Apellido Nombre ha resuelto el ejercicio 1</font> % Cambie con sus apellidos y nombres; y con el número de ejercicio que corresponda \n",
    "\n",
    "2. Coloque aquí las capturas de pantalla para cada git push realizado desde Git Bash, GitHub Desktop o Atom. \n",
    "\n",
    "- Control de versión ejercicio 1\n",
    "\n",
    "<img src=\"data/ejemplo_unix.jpg\" width=600 height=450 />\n",
    "\n",
    "- Control de versión ejercicio 2\n",
    "\n",
    "<img src=\"data/ejemplo_unix.jpg\" width=600 height=450 />\n",
    "\n",
    "- Control de versión ejercicio 3\n",
    "\n",
    "<img src=\"data/ejemplo_unix.jpg\" width=600 height=450 />\n",
    "\n",
    "- Control de versión ejercicio 4\n",
    "\n",
    "<img src=\"data/ejemplo_unix.jpg\" width=600 height=450 />\n",
    "\n",
    "- Control de versión ejercicio 5\n",
    "\n",
    "<img src=\"data/ejemplo_unix.jpg\" width=600 height=450 />\n",
    "\n",
    "- Control de versión ejercicio 8\n",
    "\n",
    "<img src=\"data/ejemplo_unix.jpg\" width=600 height=450 />\n",
    "\n",
    "- Control de versión ejercicio 9\n",
    "\n",
    "<img src=\"data/ejemplo_unix.jpg\" width=600 height=450 />\n",
    "\n",
    "- Control de versión ejercicio 10\n",
    "\n",
    "<img src=\"data/ejemplo_unix.jpg\" width=600 height=450 />\n",
    "\n",
    "\n",
    "3. Cree un directorio de nombre ```data``` donde deben estar guardados: (i) la data utilizada y (ii) las capturas de pantalla de los ejercicios 1 al 3 y los git push del ejercicio 1 al 10 (en total debe tener 13 imágenes). \n",
    "4. Inserte aquí el enlace de su repositorio (válido para el ejercicio 6 y 7): [GitHub Repository: GBI6_ExamenParcial1](https://github.com/gualapuromoises/2021_gbi6.git) (este enlace es de ejemplo)"
   ]
  },
  {
   "cell_type": "markdown",
   "metadata": {},
   "source": [
    "# 3. INTRODUCCIÓN A PYTHON\n",
    "\n",
    "## Ejercicio 8\n",
    "\n",
    "Para este ejercicio debe debe realizar lo siguiente:\n",
    "\n",
    "1. Crear un diccionario de nombre dic_aminoacidos, donde se tenga la información de la tabla que se encuentra en http://www.russelllab.org/aas/aas.html. \n",
    "2. Utilice como \"key\" los valores de la columna \"AA\" y las columnas \"Hits\" y \"%Abundance\" como \"values\". \n",
    "3. Luego de crear el diccionario, extraiga los valores de \"key\" a una lista de nombre \"aminoacidos\"\n",
    "4. Extraiga los valores de \"value\" a una lista de nombre \"propiedades\"\n",
    "Para evaluar esta pregunta realice un git push del Jupyter Notebook al repositorio del examen. "
   ]
  },
  {
   "cell_type": "code",
   "execution_count": 38,
   "metadata": {},
   "outputs": [
    {
     "name": "stdout",
     "output_type": "stream",
     "text": [
      "{'Trp': {'Hits': 1550, '%Abundance': 1.34}, 'Cys': {'Hits': 1905, '%Abundance': 1.76}, 'His': {'Hits': 1695, '%Abundance': 2.26}, 'Arg': {'Hits': 3093, '%Abundance': 5.2}, 'Met': {'Hits': 1102, '%Abundance': 2.32}, 'Tyr': {'Hits': 1525, '%Abundance': 3.25}, 'Gln': {'Hits': 1830, '%Abundance': 3.96}, 'Phe': {'Hits': 1606, '%Abundance': 4.12}, 'Asp': {'Hits': 1691, '%Abundance': 5.12}, 'Pro': {'Hits': 1598, '%Abundance': 5}, 'Ala': {'Hits': 2018, '%Abundance': 7.34}, 'Asn': {'Hits': 1103, '%Abundance': 4.57}, 'Lys': {'Hits': 1366, '%Abundance': 6.89}, 'Glu': {'Hits': 1471, '%Abundance': 6.22}, 'Gly': {'Hits': 1386, '%Abundance': 6.89}, 'Thr': {'Hits': 1147, '%Abundance': 5.85}, 'Val': {'Hits': 1225, '%Abundance': 6.48}, 'Ile': {'Hits': 1033, '%Abundance': 5.76}, 'Ser': {'Hits': 1206, '%Abundance': 7.38}, 'Leu': {'Hits': 1127, '%Abundance': 9.36}}\n",
      "dict_keys(['Trp', 'Cys', 'His', 'Arg', 'Met', 'Tyr', 'Gln', 'Phe', 'Asp', 'Pro', 'Ala', 'Asn', 'Lys', 'Glu', 'Gly', 'Thr', 'Val', 'Ile', 'Ser', 'Leu'])\n",
      "dict_values([{'Hits': 1550, '%Abundance': 1.34}, {'Hits': 1905, '%Abundance': 1.76}, {'Hits': 1695, '%Abundance': 2.26}, {'Hits': 3093, '%Abundance': 5.2}, {'Hits': 1102, '%Abundance': 2.32}, {'Hits': 1525, '%Abundance': 3.25}, {'Hits': 1830, '%Abundance': 3.96}, {'Hits': 1606, '%Abundance': 4.12}, {'Hits': 1691, '%Abundance': 5.12}, {'Hits': 1598, '%Abundance': 5}, {'Hits': 2018, '%Abundance': 7.34}, {'Hits': 1103, '%Abundance': 4.57}, {'Hits': 1366, '%Abundance': 6.89}, {'Hits': 1471, '%Abundance': 6.22}, {'Hits': 1386, '%Abundance': 6.89}, {'Hits': 1147, '%Abundance': 5.85}, {'Hits': 1225, '%Abundance': 6.48}, {'Hits': 1033, '%Abundance': 5.76}, {'Hits': 1206, '%Abundance': 7.38}, {'Hits': 1127, '%Abundance': 9.36}])\n"
     ]
    }
   ],
   "source": [
    "dic_aminoacidos = {\n",
    "    \"Trp\": {\n",
    "        \"Hits\":1550,\n",
    "        \"%Abundance\":1.34,\n",
    "    },\n",
    "    \"Cys\": {\n",
    "        \"Hits\":1905,\n",
    "        \"%Abundance\":1.76,\n",
    "    },\n",
    "    \"His\": {\n",
    "        \"Hits\":1695,\n",
    "        \"%Abundance\":2.26,\n",
    "    },\n",
    "    \"Arg\": {\n",
    "        \"Hits\":3093,\n",
    "        \"%Abundance\":5.20,\n",
    "    },\n",
    "    \"Met\": {\n",
    "        \"Hits\":1102,\n",
    "        \"%Abundance\":2.32,\n",
    "    },\n",
    "    \"Tyr\": {\n",
    "        \"Hits\":1525,\n",
    "        \"%Abundance\":3.25,\n",
    "    },\n",
    "    \"Gln\": {\n",
    "        \"Hits\":1830,\n",
    "        \"%Abundance\":3.96,\n",
    "    },\n",
    "    \"Phe\": {\n",
    "        \"Hits\":1606,\n",
    "        \"%Abundance\":4.12,\n",
    "    },\n",
    "    \"Asp\": {\n",
    "        \"Hits\":1691,\n",
    "        \"%Abundance\":5.12,\n",
    "    },\n",
    "    \"Pro\": {\n",
    "        \"Hits\":1598,\n",
    "        \"%Abundance\":5,\n",
    "    },\n",
    "    \"Ala\": {\n",
    "        \"Hits\":2018,\n",
    "        \"%Abundance\":7.34,\n",
    "    },\n",
    "    \"Asn\": {\n",
    "        \"Hits\":1103,\n",
    "        \"%Abundance\":4.57,\n",
    "    },\n",
    "    \"Lys\": {\n",
    "        \"Hits\":1366,\n",
    "        \"%Abundance\":6.89,\n",
    "    },\n",
    "    \"Glu\": {\n",
    "        \"Hits\":1471,\n",
    "        \"%Abundance\":6.22,\n",
    "    },\n",
    "    \"Gly\": {\n",
    "        \"Hits\":1386,\n",
    "        \"%Abundance\":6.89,\n",
    "    },\n",
    "    \"Thr\": {\n",
    "        \"Hits\":1147,\n",
    "        \"%Abundance\":5.85,\n",
    "    },\n",
    "    \"Val\": {\n",
    "        \"Hits\":1225,\n",
    "        \"%Abundance\":6.48,\n",
    "    },\n",
    "    \"Ile\": {\n",
    "        \"Hits\":1033,\n",
    "        \"%Abundance\":5.76,\n",
    "    },\n",
    "    \"Ser\": {\n",
    "        \"Hits\":1206,\n",
    "        \"%Abundance\":7.38,\n",
    "    },\n",
    "    \"Leu\": {\n",
    "        \"Hits\":1127,\n",
    "        \"%Abundance\":9.36,\n",
    "    },\n",
    "      \"Trp\": {\n",
    "        \"Hits\":1550,\n",
    "        \"%Abundance\":1.34,\n",
    "    },\n",
    "    \n",
    "}\n",
    "   \n",
    "print(dic_aminoacidos)     \n",
    "print(dic_aminoacidos.keys()) \n",
    "print(dic_aminoacidos.values()) "
   ]
  },
  {
   "cell_type": "markdown",
   "metadata": {},
   "source": [
    "## Ejercicio 9\n",
    "\n",
    "Para este ejercicio tiene que crear previamente lo siguiente: \n",
    "\n",
    "Una lista de nombre lista1 que tenga a las 10 primeras letras del alfabeto.\n",
    "Relaciones los códigos y las respuestas que salen al ejecutar. "
   ]
  },
  {
   "cell_type": "code",
   "execution_count": 17,
   "metadata": {},
   "outputs": [
    {
     "data": {
      "text/plain": [
       "'ikiam'"
      ]
     },
     "execution_count": 17,
     "metadata": {},
     "output_type": "execute_result"
    }
   ],
   "source": [
    "lista1 = [\"a\", \"b\", \"c\", \"d\", \"e\", \"f\", \"g\", \"h\", \"i\", \"j\"]\n",
    "lista1.append([\"gbi6\",\"bio1\",\"ikiam\"])\n",
    "lista1[-1][-1]"
   ]
  },
  {
   "cell_type": "code",
   "execution_count": 18,
   "metadata": {},
   "outputs": [
    {
     "data": {
      "text/plain": [
       "'d'"
      ]
     },
     "execution_count": 18,
     "metadata": {},
     "output_type": "execute_result"
    }
   ],
   "source": [
    "lista1 = [\"a\", \"b\", \"c\", \"d\", \"e\", \"f\", \"g\", \"h\", \"i\", \"j\"]\n",
    "lista1[3]"
   ]
  },
  {
   "cell_type": "code",
   "execution_count": 20,
   "metadata": {},
   "outputs": [
    {
     "data": {
      "text/plain": [
       "11"
      ]
     },
     "execution_count": 20,
     "metadata": {},
     "output_type": "execute_result"
    }
   ],
   "source": [
    "lista1 = [\"a\", \"b\", \"c\", \"d\", \"e\", \"f\", \"g\", \"h\", \"i\", \"j\"]\n",
    "lista1.append([\"gbi6\",\"bio1\",\"ikiam\"])\n",
    "len(lista1)"
   ]
  },
  {
   "cell_type": "code",
   "execution_count": 21,
   "metadata": {},
   "outputs": [
    {
     "data": {
      "text/plain": [
       "['c', 'd', 'e']"
      ]
     },
     "execution_count": 21,
     "metadata": {},
     "output_type": "execute_result"
    }
   ],
   "source": [
    "lista1 = [\"a\", \"b\", \"c\", \"d\", \"e\", \"f\", \"g\", \"h\", \"i\", \"j\"]\n",
    "lista1[2:5]"
   ]
  },
  {
   "cell_type": "markdown",
   "metadata": {},
   "source": [
    "## Ejercicio 10\n",
    "\n",
    "Para este ejercicio tiene que crear previamente lo siguiente: \n",
    "\n",
    "En la data https://github.com/sap0408/mtcars/blob/master/mtcars.csv, seleccione los 10 primeros registros y cree una lista de nombre lista1.\n",
    "\n",
    "Relaciones los códigos y las respuestas que salen al ejecutar. "
   ]
  },
  {
   "cell_type": "code",
   "execution_count": 25,
   "metadata": {},
   "outputs": [
    {
     "data": {
      "text/plain": [
       "'gbi6'"
      ]
     },
     "execution_count": 25,
     "metadata": {},
     "output_type": "execute_result"
    }
   ],
   "source": [
    "lista1 = [\"MazdaRX4\", \"MazdaRX4Wag\", \"Datsun710\", \"Hornet4Drive\", \"HornetSportabout\", \"Valiant\", \"Duster360\", \"Merc240D\", \"Merc230\", \"Merc280\"]\n",
    "lista1.append([\"gbi6\",\"bio1\",\"ikiam\"])\n",
    "lista1[-1][-3]"
   ]
  },
  {
   "cell_type": "code",
   "execution_count": 26,
   "metadata": {},
   "outputs": [
    {
     "data": {
      "text/plain": [
       "['Datsun710', 'Hornet4Drive', 'HornetSportabout']"
      ]
     },
     "execution_count": 26,
     "metadata": {},
     "output_type": "execute_result"
    }
   ],
   "source": [
    "lista1 = [\"MazdaRX4\", \"MazdaRX4Wag\", \"Datsun710\", \"Hornet4Drive\", \"HornetSportabout\", \"Valiant\", \"Duster360\", \"Merc240D\", \"Merc230\", \"Merc280\"]\n",
    "lista1[2:5]"
   ]
  },
  {
   "cell_type": "code",
   "execution_count": 27,
   "metadata": {},
   "outputs": [
    {
     "data": {
      "text/plain": [
       "11"
      ]
     },
     "execution_count": 27,
     "metadata": {},
     "output_type": "execute_result"
    }
   ],
   "source": [
    "lista1 = [\"MazdaRX4\", \"MazdaRX4Wag\", \"Datsun710\", \"Hornet4Drive\", \"HornetSportabout\", \"Valiant\", \"Duster360\", \"Merc240D\", \"Merc230\", \"Merc280\"]\n",
    "lista1.append([\"gbi6\",\"bio1\",\"ikiam\"])\n",
    "len(lista1)"
   ]
  },
  {
   "cell_type": "code",
   "execution_count": 28,
   "metadata": {},
   "outputs": [
    {
     "data": {
      "text/plain": [
       "'HornetSportabout'"
      ]
     },
     "execution_count": 28,
     "metadata": {},
     "output_type": "execute_result"
    }
   ],
   "source": [
    "lista1 = [\"MazdaRX4\", \"MazdaRX4Wag\", \"Datsun710\", \"Hornet4Drive\", \"HornetSportabout\", \"Valiant\", \"Duster360\", \"Merc240D\", \"Merc230\", \"Merc280\"]\n",
    "lista1[4]"
   ]
  },
  {
   "cell_type": "code",
   "execution_count": 29,
   "metadata": {},
   "outputs": [
    {
     "data": {
      "text/plain": [
       "'Hornet4Drive'"
      ]
     },
     "execution_count": 29,
     "metadata": {},
     "output_type": "execute_result"
    }
   ],
   "source": [
    "lista1 = [\"MazdaRX4\", \"MazdaRX4Wag\", \"Datsun710\", \"Hornet4Drive\", \"HornetSportabout\", \"Valiant\", \"Duster360\", \"Merc240D\", \"Merc230\", \"Merc280\"]\n",
    "lista1[3]"
   ]
  }
 ],
 "metadata": {
  "kernelspec": {
   "display_name": "Python 3",
   "language": "python",
   "name": "python3"
  },
  "language_info": {
   "codemirror_mode": {
    "name": "ipython",
    "version": 3
   },
   "file_extension": ".py",
   "mimetype": "text/x-python",
   "name": "python",
   "nbconvert_exporter": "python",
   "pygments_lexer": "ipython3",
   "version": "3.8.8"
  },
  "latex_envs": {
   "LaTeX_envs_menu_present": true,
   "autoclose": false,
   "autocomplete": true,
   "bibliofile": "biblio.bib",
   "cite_by": "apalike",
   "current_citInitial": 1,
   "eqLabelWithNumbers": true,
   "eqNumInitial": 1,
   "hotkeys": {
    "equation": "Ctrl-E",
    "itemize": "Ctrl-I"
   },
   "labels_anchors": false,
   "latex_user_defs": false,
   "report_style_numbering": false,
   "user_envs_cfg": false
  },
  "toc": {
   "base_numbering": 1,
   "nav_menu": {},
   "number_sections": true,
   "sideBar": false,
   "skip_h1_title": false,
   "title_cell": "Table of Contents",
   "title_sidebar": "Contents",
   "toc_cell": false,
   "toc_position": {
    "height": "1152.67px",
    "left": "41px",
    "top": "110px",
    "width": "253.458px"
   },
   "toc_section_display": true,
   "toc_window_display": false
  },
  "varInspector": {
   "cols": {
    "lenName": 16,
    "lenType": 16,
    "lenVar": 40
   },
   "kernels_config": {
    "python": {
     "delete_cmd_postfix": "",
     "delete_cmd_prefix": "del ",
     "library": "var_list.py",
     "varRefreshCmd": "print(var_dic_list())"
    },
    "r": {
     "delete_cmd_postfix": ") ",
     "delete_cmd_prefix": "rm(",
     "library": "var_list.r",
     "varRefreshCmd": "cat(var_dic_list()) "
    }
   },
   "types_to_exclude": [
    "module",
    "function",
    "builtin_function_or_method",
    "instance",
    "_Feature"
   ],
   "window_display": false
  }
 },
 "nbformat": 4,
 "nbformat_minor": 4
}
